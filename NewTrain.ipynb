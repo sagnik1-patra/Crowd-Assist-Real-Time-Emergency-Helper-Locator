{
 "cells": [
  {
   "cell_type": "code",
   "execution_count": 5,
   "id": "924c0626-f0c5-4003-9ec7-4a992f09ae3e",
   "metadata": {},
   "outputs": [
    {
     "name": "stdout",
     "output_type": "stream",
     "text": [
      "Epoch 1/10\n"
     ]
    },
    {
     "name": "stderr",
     "output_type": "stream",
     "text": [
      "C:\\Users\\sagni\\AppData\\Local\\Programs\\Python\\Python311\\Lib\\site-packages\\keras\\src\\layers\\core\\dense.py:93: UserWarning: Do not pass an `input_shape`/`input_dim` argument to a layer. When using Sequential models, prefer using an `Input(shape)` object as the first layer in the model instead.\n",
      "  super().__init__(activity_regularizer=activity_regularizer, **kwargs)\n"
     ]
    },
    {
     "name": "stdout",
     "output_type": "stream",
     "text": [
      "\u001b[1m7362/7362\u001b[0m \u001b[32m━━━━━━━━━━━━━━━━━━━━\u001b[0m\u001b[37m\u001b[0m \u001b[1m14s\u001b[0m 2ms/step - accuracy: 0.4911 - loss: 0.9555 - val_accuracy: 0.4990 - val_loss: 0.9459\n",
      "Epoch 2/10\n",
      "\u001b[1m7362/7362\u001b[0m \u001b[32m━━━━━━━━━━━━━━━━━━━━\u001b[0m\u001b[37m\u001b[0m \u001b[1m12s\u001b[0m 2ms/step - accuracy: 0.4989 - loss: 0.9456 - val_accuracy: 0.4990 - val_loss: 0.9453\n",
      "Epoch 3/10\n",
      "\u001b[1m7362/7362\u001b[0m \u001b[32m━━━━━━━━━━━━━━━━━━━━\u001b[0m\u001b[37m\u001b[0m \u001b[1m11s\u001b[0m 2ms/step - accuracy: 0.4980 - loss: 0.9442 - val_accuracy: 0.4990 - val_loss: 0.9454\n",
      "Epoch 4/10\n",
      "\u001b[1m7362/7362\u001b[0m \u001b[32m━━━━━━━━━━━━━━━━━━━━\u001b[0m\u001b[37m\u001b[0m \u001b[1m11s\u001b[0m 2ms/step - accuracy: 0.4990 - loss: 0.9447 - val_accuracy: 0.4990 - val_loss: 0.9453\n",
      "Epoch 5/10\n",
      "\u001b[1m7362/7362\u001b[0m \u001b[32m━━━━━━━━━━━━━━━━━━━━\u001b[0m\u001b[37m\u001b[0m \u001b[1m11s\u001b[0m 2ms/step - accuracy: 0.4993 - loss: 0.9435 - val_accuracy: 0.4990 - val_loss: 0.9452\n",
      "Epoch 6/10\n",
      "\u001b[1m7362/7362\u001b[0m \u001b[32m━━━━━━━━━━━━━━━━━━━━\u001b[0m\u001b[37m\u001b[0m \u001b[1m12s\u001b[0m 2ms/step - accuracy: 0.4991 - loss: 0.9435 - val_accuracy: 0.4990 - val_loss: 0.9453\n",
      "Epoch 7/10\n",
      "\u001b[1m7362/7362\u001b[0m \u001b[32m━━━━━━━━━━━━━━━━━━━━\u001b[0m\u001b[37m\u001b[0m \u001b[1m12s\u001b[0m 2ms/step - accuracy: 0.5004 - loss: 0.9438 - val_accuracy: 0.4990 - val_loss: 0.9452\n",
      "Epoch 8/10\n",
      "\u001b[1m7362/7362\u001b[0m \u001b[32m━━━━━━━━━━━━━━━━━━━━\u001b[0m\u001b[37m\u001b[0m \u001b[1m12s\u001b[0m 2ms/step - accuracy: 0.4995 - loss: 0.9425 - val_accuracy: 0.4991 - val_loss: 0.9452\n",
      "Epoch 9/10\n",
      "\u001b[1m7362/7362\u001b[0m \u001b[32m━━━━━━━━━━━━━━━━━━━━\u001b[0m\u001b[37m\u001b[0m \u001b[1m11s\u001b[0m 2ms/step - accuracy: 0.4988 - loss: 0.9432 - val_accuracy: 0.4990 - val_loss: 0.9453\n",
      "Epoch 10/10\n",
      "\u001b[1m7362/7362\u001b[0m \u001b[32m━━━━━━━━━━━━━━━━━━━━\u001b[0m\u001b[37m\u001b[0m \u001b[1m12s\u001b[0m 2ms/step - accuracy: 0.5004 - loss: 0.9431 - val_accuracy: 0.4990 - val_loss: 0.9452\n"
     ]
    },
    {
     "name": "stderr",
     "output_type": "stream",
     "text": [
      "WARNING:absl:You are saving your model as an HDF5 file via `model.save()` or `keras.saving.save_model(model)`. This file format is considered legacy. We recommend using instead the native Keras format, e.g. `model.save('my_model.keras')` or `keras.saving.save_model(model, 'my_model.keras')`. \n"
     ]
    },
    {
     "name": "stdout",
     "output_type": "stream",
     "text": [
      "✅ Model trained and saved.\n"
     ]
    }
   ],
   "source": [
    "# 📦 Imports\n",
    "import pandas as pd\n",
    "import numpy as np\n",
    "import os\n",
    "from sklearn.preprocessing import LabelEncoder, StandardScaler\n",
    "from sklearn.model_selection import train_test_split\n",
    "from tensorflow.keras.models import Sequential\n",
    "from tensorflow.keras.layers import Dense, Dropout\n",
    "from tensorflow.keras.utils import to_categorical\n",
    "from sklearn.metrics import classification_report, confusion_matrix\n",
    "import matplotlib.pyplot as plt\n",
    "import seaborn as sns\n",
    "\n",
    "# 📄 Load cleaned data\n",
    "df = pd.read_csv(r\"C:\\Users\\sagni\\Downloads\\CrowdAssist\\cleaned_data.csv\")\n",
    "\n",
    "# 🔤 Encode categorical columns\n",
    "label_encoders = {}\n",
    "for col in df.select_dtypes(include=['object']).columns:\n",
    "    le = LabelEncoder()\n",
    "    df[col] = le.fit_transform(df[col])\n",
    "    label_encoders[col] = le\n",
    "\n",
    "# Store Label encoder for later use\n",
    "label_encoder = LabelEncoder()\n",
    "df['Label'] = label_encoder.fit_transform(df['Label'])\n",
    "label_encoders['Label'] = label_encoder\n",
    "\n",
    "# 🎯 Split features and target\n",
    "X = df.drop('Label', axis=1)\n",
    "y = df['Label']\n",
    "y_cat = to_categorical(y)\n",
    "\n",
    "# 🔍 Scaling\n",
    "scaler = StandardScaler()\n",
    "X_scaled = scaler.fit_transform(X)\n",
    "\n",
    "# ✂️ Train/test split\n",
    "X_train, X_test, y_train, y_test = train_test_split(\n",
    "    X_scaled, y_cat, test_size=0.2, stratify=y, random_state=42\n",
    ")\n",
    "\n",
    "# 🧠 Build a simple Keras model\n",
    "model = Sequential([\n",
    "    Dense(128, input_dim=X_train.shape[1], activation='relu'),\n",
    "    Dropout(0.3),\n",
    "    Dense(64, activation='relu'),\n",
    "    Dropout(0.2),\n",
    "    Dense(y_cat.shape[1], activation='softmax')\n",
    "])\n",
    "\n",
    "model.compile(optimizer='adam', loss='categorical_crossentropy', metrics=['accuracy'])\n",
    "\n",
    "# 🏋️‍♂️ Train\n",
    "history = model.fit(X_train, y_train, validation_split=0.2, epochs=10, batch_size=32)\n",
    "\n",
    "# 💾 Save model\n",
    "model.save(r\"C:\\Users\\sagni\\Downloads\\CrowdAssist\\emergency_routing_model.h5\")\n",
    "print(\"✅ Model trained and saved.\")\n"
   ]
  },
  {
   "cell_type": "code",
   "execution_count": null,
   "id": "c9945be8-8402-4a45-bb6e-78d27e3d18b6",
   "metadata": {},
   "outputs": [],
   "source": []
  }
 ],
 "metadata": {
  "kernelspec": {
   "display_name": "Python 3.11 (moviepy)",
   "language": "python",
   "name": "py311"
  },
  "language_info": {
   "codemirror_mode": {
    "name": "ipython",
    "version": 3
   },
   "file_extension": ".py",
   "mimetype": "text/x-python",
   "name": "python",
   "nbconvert_exporter": "python",
   "pygments_lexer": "ipython3",
   "version": "3.11.9"
  }
 },
 "nbformat": 4,
 "nbformat_minor": 5
}
